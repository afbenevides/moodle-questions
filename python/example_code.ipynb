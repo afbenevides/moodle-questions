{
 "cells": [
  {
   "cell_type": "markdown",
   "metadata": {},
   "source": [
    "# Exercise sample: code\n",
    "Change this sample according to your needs. Run all the cells, and upload resulting `.xml` file to Moodle."
   ]
  },
  {
   "cell_type": "markdown",
   "metadata": {},
   "source": [
    "## Auxilary functions"
   ]
  },
  {
   "cell_type": "code",
   "execution_count": 1,
   "metadata": {
    "collapsed": false
   },
   "outputs": [],
   "source": [
    "from moodle import *"
   ]
  },
  {
   "cell_type": "markdown",
   "metadata": {},
   "source": [
    "## Reference programme\n",
    "First we write reference programme."
   ]
  },
  {
   "cell_type": "code",
   "execution_count": 2,
   "metadata": {
    "collapsed": false
   },
   "outputs": [
    {
     "name": "stdout",
     "output_type": "stream",
     "text": [
      "Overwriting root2.py\n"
     ]
    }
   ],
   "source": [
    "%%writefile root2.py\n",
    "###########################################################################\n",
    "# Write the function root2(x) that calculates square root of x numerically\n",
    "# with error less than 0.0001\n",
    "###########################################################################\n",
    "def root2(x):\n",
    "    \"\"\"\n",
    "    Function root2(x) calculates square root of given x numerically\n",
    "    with precision 0.0001\n",
    "    \"\"\"\n",
    "# BEGIN_REFERENCE_CODE\n",
    "    tolerance = 0.0001\n",
    "    y=x/2;\n",
    "    for i in range(100):\n",
    "        yn = (y+x/y)/2\n",
    "        if abs(yn-y)<tolerance:\n",
    "            break\n",
    "        y = yn\n",
    "    return y\n",
    "# END_REFERENCE_CODE\n",
    "\n",
    "# TESTS\n",
    "import random\n",
    "if __name__ == '__main__':\n",
    "    assert(abs(root2(4)-2)<0.0001)\n",
    "    assert(abs(root2(2)-1.41421356)<0.0001)\n",
    "    # BEGIN_ANSWER\n",
    "    random.seed(123)\n",
    "    ans = root2(random.random()+random.randint(10,20))\n",
    "    # END_ANSWER\n",
    "    print(\"Write this number as answer in Moodle: %1.7f\" % ans)"
   ]
  },
  {
   "cell_type": "code",
   "execution_count": 7,
   "metadata": {
    "collapsed": false
   },
   "outputs": [],
   "source": [
    "from root2 import root2\n",
    "name = \"root2.py\"\n",
    "with open(name) as fp:\n",
    "    s = fp.read()\n",
    "\n",
    "import re\n",
    "re_ref_code = re.compile(r'\\#\\s*BEGIN_REFERENCE_CODE.*\\#\\s*END_REFERENCE_CODE', re.DOTALL)\n",
    "template = re_ref_code.sub('# WRITE YOUR CODE HERE\\n\\n\\n# DO NOT CHANGE THE CODE BELOW\\n',s)\n",
    "code = re_ref_code.findall(s)[0]"
   ]
  },
  {
   "cell_type": "markdown",
   "metadata": {},
   "source": [
    "## Question parameters\n",
    "Generate parameters, that appear in the questions. Since we would like to test Python code, we use random generator with seed to generate test cases."
   ]
  },
  {
   "cell_type": "code",
   "execution_count": 4,
   "metadata": {
    "collapsed": false
   },
   "outputs": [
    {
     "data": {
      "text/plain": [
       "[1053, 1274, 1089, 1787, 1417, 1272]"
      ]
     },
     "execution_count": 4,
     "metadata": {},
     "output_type": "execute_result"
    }
   ],
   "source": [
    "import random\n",
    "random.seed(123)\n",
    "parameters = [random.randint(1000,2000) for i in range(6)]\n",
    "parameters"
   ]
  },
  {
   "cell_type": "markdown",
   "metadata": {},
   "source": [
    "## Question body\n",
    "Write the function, that generates the text of the question. You can use the following syntax to add different inputs to \n",
    "question string `q`:\n",
    "  \n",
    "  * value of a variable: `q = q + str(x)`\n",
    "  * Python expressions: `q = q + str(1+2*x)`\n",
    "  * answer input field: `q = q + num_q(correct_answer, precision)`  \n",
    "  \n",
    "## Note on embedding Python files\n",
    "We use `<a name=\"data.csv\" href=\"data:text/x-python;base64,...>` tag to embed arbitrary python file as BASE64 encoded ASCII string.\n"
   ]
  },
  {
   "cell_type": "code",
   "execution_count": 8,
   "metadata": {
    "collapsed": false
   },
   "outputs": [],
   "source": [
    "import io\n",
    "import base64\n",
    "\n",
    "def question_text(parameter):\n",
    "    seed =  parameter # parameter contains seed for random\n",
    "    s = template.replace('random.seed(123)','random.seed(%d)'%seed)\n",
    "    random.seed(seed)\n",
    "    y = root2(random.random()+random.randint(10,20))\n",
    "    python = base64.b64encode(s.encode('ascii')).decode()\n",
    "    q = \"\"\"<p>Write Python function that calculates square root of given number. Use </p>\n",
    "    <a name=\"%s\" href=\"data:text/x-python;base64,%s\">%s</a> as a template.\n",
    "    <p>What is the number the program returns?: %s</p>\n",
    "    \"\"\" % (name,python,name,num_q(y,0.00005))\n",
    "    return q"
   ]
  },
  {
   "cell_type": "code",
   "execution_count": 9,
   "metadata": {
    "collapsed": false
   },
   "outputs": [
    {
     "data": {
      "text/html": [
       "<p>Write Python function that calculates square root of given number. Use </p>\n",
       "    <a name=\"root2.py\" href=\"data:text/x-python;base64,IyMjIyMjIyMjIyMjIyMjIyMjIyMjIyMjIyMjIyMjIyMjIyMjIyMjIyMjIyMjIyMjIyMjIyMjIyMjIyMjIyMjIyMjIyMjIyMjIyMjCiMgV3JpdGUgdGhlIGZ1bmN0aW9uIHJvb3QyKHgpIHRoYXQgY2FsY3VsYXRlcyBzcXVhcmUgcm9vdCBvZiB4IG51bWVyaWNhbGx5CiMgd2l0aCBlcnJvciBsZXNzIHRoYW4gMC4wMDAxCiMjIyMjIyMjIyMjIyMjIyMjIyMjIyMjIyMjIyMjIyMjIyMjIyMjIyMjIyMjIyMjIyMjIyMjIyMjIyMjIyMjIyMjIyMjIyMjIyMjIwpkZWYgcm9vdDIoeCk6CiAgICAiIiIKICAgIEZ1bmN0aW9uIHJvb3QyKHgpIGNhbGN1bGF0ZXMgc3F1YXJlIHJvb3Qgb2YgZ2l2ZW4geCBudW1lcmljYWxseQogICAgd2l0aCBwcmVjaXNpb24gMC4wMDAxCiAgICAiIiIKIyBXUklURSBZT1VSIENPREUgSEVSRQoKCiMgRE8gTk9UIENIQU5HRSBUSEUgQ09ERSBCRUxPVwoKCiMgVEVTVFMKaW1wb3J0IHJhbmRvbQppZiBfX25hbWVfXyA9PSAnX19tYWluX18nOgogICAgYXNzZXJ0KGFicyhyb290Mig0KS0yKTwwLjAwMDEpCiAgICBhc3NlcnQoYWJzKHJvb3QyKDIpLTEuNDE0MjEzNTYpPDAuMDAwMSkKICAgICMgQkVHSU5fQU5TV0VSCiAgICByYW5kb20uc2VlZCgxMDUzKQogICAgYW5zID0gcm9vdDIocmFuZG9tLnJhbmRvbSgpK3JhbmRvbS5yYW5kaW50KDEwLDIwKSkKICAgICMgRU5EX0FOU1dFUgogICAgcHJpbnQoIldyaXRlIHRoaXMgbnVtYmVyIGFzIGFuc3dlciBpbiBNb29kbGU6ICUxLjdmIiAlIGFucyk=\">root2.py</a> as a template.\n",
       "    <p>What is the number the program returns?: {1:NUMERICAL:=3.968977:0.000050#Pravilno~3.968977:0.000500#Premalo pravilnih decimalk}</p>\n",
       "    "
      ],
      "text/plain": [
       "<IPython.core.display.HTML object>"
      ]
     },
     "execution_count": 9,
     "metadata": {},
     "output_type": "execute_result"
    }
   ],
   "source": [
    "# display the first question\n",
    "from IPython.display import HTML\n",
    "HTML(question_text(parameters[0]))"
   ]
  },
  {
   "cell_type": "markdown",
   "metadata": {},
   "source": [
    "## Write to file"
   ]
  },
  {
   "cell_type": "code",
   "execution_count": 14,
   "metadata": {
    "collapsed": false
   },
   "outputs": [
    {
     "name": "stdout",
     "output_type": "stream",
     "text": [
      "Questions were saved in root2.py.xml, that can be imported into Moodle\n"
     ]
    }
   ],
   "source": [
    "# Write the questions to a file\n",
    "category  = 'python/root/'\n",
    "questions = []\n",
    "for param in parameters:\n",
    "    b = question_text(param)\n",
    "    questions.append(b)\n",
    "file = open(name + \".xml\",\"w\",encoding=\"utf8\")\n",
    "feedback = \"<![CDATA[Reference code:\\n<pre>\\ndef root2(x):\\n%s\\n</pre>]]>\" % code\n",
    "\n",
    "# Write to Moodle xml file\n",
    "cloze_with_feedback = lambda text, name: cloze_question(text, name, feedback)\n",
    "moodle_xml(name,questions, cloze_with_feedback, category = category, iostream = file)\n",
    "file.close()\n",
    "print(\"Questions were saved in \" + name + \".xml, that can be imported into Moodle\")"
   ]
  },
  {
   "cell_type": "code",
   "execution_count": null,
   "metadata": {
    "collapsed": true
   },
   "outputs": [],
   "source": []
  }
 ],
 "metadata": {
  "celltoolbar": "Raw Cell Format",
  "kernelspec": {
   "display_name": "Python 3",
   "language": "python",
   "name": "python3"
  },
  "language_info": {
   "codemirror_mode": {
    "name": "ipython",
    "version": 3
   },
   "file_extension": ".py",
   "mimetype": "text/x-python",
   "name": "python",
   "nbconvert_exporter": "python",
   "pygments_lexer": "ipython3",
   "version": "3.5.1+"
  }
 },
 "nbformat": 4,
 "nbformat_minor": 0
}
